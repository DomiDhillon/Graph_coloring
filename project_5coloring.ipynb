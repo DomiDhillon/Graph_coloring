{
 "cells": [
  {
   "cell_type": "markdown",
   "metadata": {},
   "source": [
    "### Importing modules"
   ]
  },
  {
   "cell_type": "code",
   "execution_count": 23,
   "metadata": {},
   "outputs": [],
   "source": [
    "import pydot\n",
    "from IPython.display import Image, display\n",
    "from sympy.interactive import printing\n",
    "printing.init_printing(use_latex=True)\n",
    "import networkx as nx\n",
    "import matplotlib.pyplot as plt\n",
    "import copy"
   ]
  },
  {
   "cell_type": "markdown",
   "metadata": {},
   "source": [
    "### BFS"
   ]
  },
  {
   "cell_type": "code",
   "execution_count": 2,
   "metadata": {},
   "outputs": [],
   "source": [
    "#shortest path\n",
    "def find_shortest_path(graph, start, end, path=[]):\n",
    "    path = path + [start]\n",
    "    if start == end:\n",
    "        return path\n",
    "    if start not in graph: #or graph.__contains__(start)\n",
    "        return None\n",
    "    shortest = None\n",
    "    for node in graph[start]:\n",
    "        if node not in path:\n",
    "            newpath = find_shortest_path(graph, node, end, path)\n",
    "            if newpath:\n",
    "                if not shortest or len(newpath) < len(shortest):\n",
    "                    shortest = newpath\n",
    "    return shortest"
   ]
  },
  {
   "cell_type": "markdown",
   "metadata": {},
   "source": [
    "### Basic drawing fun"
   ]
  },
  {
   "cell_type": "code",
   "execution_count": 3,
   "metadata": {},
   "outputs": [],
   "source": [
    "def drawing_nx (dic):\n",
    "    G=nx.Graph()\n",
    "    for key, value in dic.items():\n",
    "        for i in range(len(value)):\n",
    "            G.add_edge(key,value[i])\n",
    "    posit=nx.planar_layout(G)\n",
    "    nx.draw(G, posit, with_labels=True)\n",
    "    plt.show()"
   ]
  },
  {
   "cell_type": "markdown",
   "metadata": {},
   "source": [
    "### Graph to color"
   ]
  },
  {
   "cell_type": "code",
   "execution_count": 25,
   "metadata": {},
   "outputs": [
    {
     "data": {
      "image/png": "[encoded data removed]",
      "text/plain": [
       "<Figure size 432x288 with 1 Axes>"
      ]
     },
     "metadata": {},
     "output_type": "display_data"
    }
   ],
   "source": [
    "graph1 = {'A': ['B', 'C'],\n",
    "         'B': ['C', 'D'],\n",
    "         'C': ['D'],\n",
    "         'D': ['C','G'],\n",
    "         'E': ['A','F','D'],\n",
    "         'F': ['A','C','D'],\n",
    "         'G':['B','D','E']}\n",
    "drawing_nx(graph1)"
   ]
  },
  {
   "cell_type": "code",
   "execution_count": 5,
   "metadata": {},
   "outputs": [],
   "source": [
    "def adjlisting(dic):\n",
    "    '''correct dictionary if defined manually - make sure all edges are there'''\n",
    "    G=nx.Graph()\n",
    "    for key, value in dic.items():\n",
    "        for i in range(len(value)):\n",
    "            G.add_edge(key,value[i])\n",
    "    M=nx.to_dict_of_lists(G)\n",
    "    return M"
   ]
  },
  {
   "cell_type": "code",
   "execution_count": 6,
   "metadata": {},
   "outputs": [],
   "source": [
    "def nxgraphmaker(dic):\n",
    "    '''creats nx.Graph object from adjacency dictionary'''\n",
    "    G=nx.Graph()\n",
    "    for key, value in dic.items():\n",
    "        for i in range(len(value)):\n",
    "            G.add_edge(key,value[i])\n",
    "    return G"
   ]
  },
  {
   "cell_type": "code",
   "execution_count": 7,
   "metadata": {},
   "outputs": [],
   "source": [
    "def subG (dic,node5d):\n",
    "    '''creates a subgraph of the 5-deg node and its neighbors'''\n",
    "    G=nxgraphmaker(dic)\n",
    "    nodeList=[nei for nei in G.neighbors(node5d)]\n",
    "    nodeList.append(node5d)\n",
    "    subGraph=G.subgraph(nodeList)\n",
    "    return subGraph"
   ]
  },
  {
   "cell_type": "markdown",
   "metadata": {},
   "source": [
    "### Get ordered neighbor list of the 5-degree node"
   ]
  },
  {
   "cell_type": "code",
   "execution_count": 20,
   "metadata": {},
   "outputs": [],
   "source": [
    "def ordering_neibs(dic,node5d):\n",
    "    '''return order (cw or ccw) of neighbors of the 5deg node\n",
    "    Important is that they are connected to each other in that order'''\n",
    "    sub=subG(dic=dic,node5d=node5d)\n",
    "    ordered_list=[]\n",
    "    visited_list=[node5d]\n",
    "    centerNode=node5d\n",
    "    for i in range(len(list(sub.neighbors(node5d)))): #itterate x-time (x=num of neibs)\n",
    "        j=0\n",
    "        while list(sub.neighbors(centerNode))[j] in visited_list:\n",
    "            j+=1\n",
    "            if j==len(list(sub.neighbors(centerNode))):\n",
    "                return ordered_list\n",
    "        being_visited=list(sub.neighbors(centerNode))[j]\n",
    "        ordered_list.append(being_visited)\n",
    "        visited_list.append(being_visited)\n",
    "        centerNode=being_visited\n",
    "    print(\"Ordering of neighbors of {}: {}\".format(node5d,ordered_list))\n",
    "    return ordered_list"
   ]
  },
  {
   "cell_type": "markdown",
   "metadata": {},
   "source": [
    "### Planarity check"
   ]
  },
  {
   "cell_type": "markdown",
   "metadata": {},
   "source": [
    "**Theorem**: *(Euler's Formula)* For a connected planar simple graph $G=(V,E)$ with $e=|E|$ and $v=|V|$, if we let r be the number of regions that are created when drawing a planar representation of the graph, then $r=e−v+2$.\n",
    "\n",
    "Proof idea: We proceed by induction on the number of edges. For $e=1$, we can only have this graph, which has $v=2$ and $r=1$, so the theorem holds.\n",
    "\n",
    "\n",
    "If we assume the conclusion for $e−1$ edges, and add an edge to get our planar graph, there are only two possibilities to consider.\n",
    "\n",
    "Case 1: we add a pendant vertex and edge. In this case e and v both increase by one and the equality still holds.\n",
    "\n",
    "\n",
    "Case 2: we add an edge across two existing vertices (that doesn't cross any other edges, of course). Here, r and e both increase by one, preserving the equality.\n",
    "\n",
    "\n",
    "So we can build any planar graph with $e$ edges and it will always have $r=e−v+2$.\n",
    "\n",
    "**Theorem**: For a simple connected planar graph with $v\\geq 3$ vertices and $e$ edges, $e\\leq3v−6$.\n",
    "\n",
    "Proof: Let $r$ be the number of regions in a planar representation of the graph, and for a region $R$, let $deg(R)$ be the number of edges that are adjacent to the region, so each edge is adjacent to two regions.\n",
    "\n",
    "We know that $deg(R)\\geq3$ for each region since the graph doesn't have multiple edges (for interior regions) and has at least three vertices (for the exterior region). Since each edge is adjacent to two regions, $2e=\\sum deg(R)\\geq3r$.\n",
    "\n",
    "We can use this with Euler's formula $(r=e−v+2)$ to get\n",
    "$$3r \\leq 2e$$\n",
    "$$3(e-v+2) \\leq 2e$$\n",
    "$$e \\leq 3v-6$$\n",
    "          \n",
    "**Corallary**: A simple connected planar graph with v≥3 has a vertex of degree five or less.\n",
    "\n",
    "Proof: Suppose every vertex has degree 6 or more. Then the total number of edges is 2e≥6v. But, because the graph is planar,\n",
    "          $$\\sum \\deg(v)=2e≤6v−12$$\n",
    "\n",
    "which is a contradiction."
   ]
  },
  {
   "cell_type": "code",
   "execution_count": 9,
   "metadata": {},
   "outputs": [],
   "source": [
    "def planarityCheck(dic):\n",
    "    '''check whether graph is planar (dict input);\n",
    "    can use without adjlisting'''\n",
    "    G=nxgraphmaker(dic=dic)\n",
    "    is_planar=nx.algorithms.planarity.check_planarity(G)[0]\n",
    "    return is_planar"
   ]
  },
  {
   "cell_type": "markdown",
   "metadata": {},
   "source": [
    "### Color swap"
   ]
  },
  {
   "cell_type": "code",
   "execution_count": 10,
   "metadata": {},
   "outputs": [],
   "source": [
    "def col_swaper (dic,orderedNeibs,col_labels):\n",
    "    '''col_labels is dictionary {node:color} created during in coloring()'''\n",
    "    G=nxgraphmaker(dic)\n",
    "    w_1and3=[col_labels[orderedNeibs[0]],col_labels[orderedNeibs[2]] ]\n",
    "    w_2and4=[col_labels[orderedNeibs[1]],col_labels[orderedNeibs[3]] ]\n",
    "    collist=[w_1and3,w_2and4]\n",
    "    \n",
    "    #need to check only one pair - if the first if connected, then automatically take second\n",
    "    nodelist=[]\n",
    "    for node, color in col_labels.items():\n",
    "        if color in collist[0]:\n",
    "            nodelist.append(node)\n",
    "    subColors=G.subgraph(nodelist)\n",
    "    subDict=nx.to_dict_of_lists(subColors)\n",
    "    answer=find_shortest_path(graph=subDict,start=orderedNeibs[0],end=orderedNeibs[2]) #BFS variant\n",
    "    if not answer:\n",
    "        answer=[orderedNeibs[0],orderedNeibs[2]]\n",
    "    else:\n",
    "        answer=[orderedNeibs[1],orderedNeibs[3]]\n",
    "    new_col_labels=copy.deepcopy(col_labels) #the answer give the pair of vertices for color-swap\n",
    "    new_col_labels[answer[0]]=col_labels[answer[1]]\n",
    "    new_col_labels[answer[1]]=col_labels[answer[0]]\n",
    "    return new_col_labels"
   ]
  },
  {
   "cell_type": "markdown",
   "metadata": {},
   "source": [
    "### Final 5-coloring function"
   ]
  },
  {
   "cell_type": "markdown",
   "metadata": {},
   "source": [
    "**Definition:** A coloring of a graph maps the vertices to colors, such that if 2 vertices are connected by an edge, they don't have the same color. We call $n$ the size of a coloring, and if $G$ has a coloring of size $n$ we say that $G$ is $n$-colorable.\n",
    "\n",
    "**Definition:** The chromatic number of a graph $G$, denoted $\\chi(G)$ is the smallest positive number $k$ such that $G$ is $k$-colorable.\n",
    "\n",
    "**Theorem:** Every planar graph admits a 5-coloring."
   ]
  },
  {
   "cell_type": "code",
   "execution_count": 16,
   "metadata": {},
   "outputs": [],
   "source": [
    "def coloring(dic,colors=None):\n",
    "    adjlist=adjlisting(dic=dic) #to be sure all neighbors are listed with each node\n",
    "    if planarityCheck(dic=adjlist):\n",
    "        print(\"The graph is planar.\")\n",
    "    else:\n",
    "        return(\"Not planar, can't do.\")\n",
    "    if not colors:\n",
    "        colors=['lightblue','pink','green','red','purple']\n",
    "    for value in adjlist.values(): #neighbors in ascending order \n",
    "        value.sort()\n",
    "        \n",
    "    col_labels={}\n",
    "    for key, value in adjlist.items():\n",
    "        if len(value)<5:#if less than 5 neighbors\n",
    "            if key not in col_labels:\n",
    "                col_labels.__setitem__(key,\"\")\n",
    "            options=copy.deepcopy(colors)\n",
    "            for col in options:\n",
    "            \n",
    "                if not col_labels[key]:       #if the graph is connected,\n",
    "                                              # only the first node will be found empty - the others will be neighbors\n",
    "                    col_labels[key]=min(options) #get it one by one alphabetically\n",
    "                    #print(options) \n",
    "                    options.remove(min(options))\n",
    "                    #print(options)\n",
    "                for neib in value:\n",
    "                    if neib not in col_labels:\n",
    "                        col_labels.__setitem__(neib,\"\")\n",
    "                    if not col_labels[neib]:\n",
    "                        col_labels[neib]=min(options)\n",
    "                        options.remove(min(options))\n",
    "        if len(value)==5: #the vertex of degree=5\n",
    "            node5d=key #coloring will be rearanged around this node\n",
    "    \n",
    "    orderedNeibs=ordering_neibs(dic=adjlist,node5d=node5d) #ordering neighbors of the 5deg node\n",
    "    col_labels=col_swaper(dic=adjlist,orderedNeibs=orderedNeibs,col_labels=col_labels) #changing colors between w1 and w3 (or w2 and w4)\n",
    "        #inside col_swaper implement bfs/connect check:create subgraph of 2 colors, check whether the nodes w1 and w3 in this subG are connected\n",
    "    G=nxgraphmaker(adjlist)\n",
    "    posit=nx.planar_layout(G)\n",
    "    nx.draw(G, posit,node_color=col_labels.values(), with_labels=True)\n",
    "    plt.show()      "
   ]
  },
  {
   "cell_type": "code",
   "execution_count": 21,
   "metadata": {},
   "outputs": [
    {
     "name": "stdout",
     "output_type": "stream",
     "text": [
      "The graph is planar.\n",
      "Ordering of neighbors of D: ['B', 'C', 'F', 'E', 'G']\n"
     ]
    },
    {
     "data": {
      "image/png": "[encoded data removed]",
      "text/plain": [
       "<Figure size 432x288 with 1 Axes>"
      ]
     },
     "metadata": {},
     "output_type": "display_data"
    }
   ],
   "source": [
    "coloring(graph1)"
   ]
  }
 ],
 "metadata": {
  "kernelspec": {
   "display_name": "Python 3 (ipykernel)",
   "language": "python",
   "name": "python3"
  },
  "language_info": {
   "codemirror_mode": {
    "name": "ipython",
    "version": 3
   },
   "file_extension": ".py",
   "mimetype": "text/x-python",
   "name": "python",
   "nbconvert_exporter": "python",
   "pygments_lexer": "ipython3",
   "version": "3.8.3"
  }
 },
 "nbformat": 4,
 "nbformat_minor": 4
}
